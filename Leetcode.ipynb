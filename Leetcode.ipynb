{
  "nbformat": 4,
  "nbformat_minor": 0,
  "metadata": {
    "colab": {
      "provenance": [],
      "authorship_tag": "ABX9TyM9tWgcPK+QsAUdxYTr9Ll3",
      "include_colab_link": true
    },
    "kernelspec": {
      "name": "python3",
      "display_name": "Python 3"
    },
    "language_info": {
      "name": "python"
    }
  },
  "cells": [
    {
      "cell_type": "markdown",
      "metadata": {
        "id": "view-in-github",
        "colab_type": "text"
      },
      "source": [
        "<a href=\"https://colab.research.google.com/github/mandesai/SciforTechnologies/blob/main/Leetcode.ipynb\" target=\"_parent\"><img src=\"https://colab.research.google.com/assets/colab-badge.svg\" alt=\"Open In Colab\"/></a>"
      ]
    },
    {
      "cell_type": "markdown",
      "source": [
        "\n",
        "##Merge Strings Alternately\n"
      ],
      "metadata": {
        "id": "B-Y-EuuRCkWy"
      }
    },
    {
      "cell_type": "code",
      "execution_count": 15,
      "metadata": {
        "colab": {
          "base_uri": "https://localhost:8080/"
        },
        "id": "ySvyY2Y1CdbS",
        "outputId": "bcc7116b-3e67-44bb-d72c-735253c4b8d7"
      },
      "outputs": [
        {
          "output_type": "stream",
          "name": "stdout",
          "text": [
            "Result: apbqcr\n"
          ]
        }
      ],
      "source": [
        "class Solution:\n",
        "  def mergeAlternately(self, word1, word2) -> str:\n",
        "      ans = \"\"\n",
        "      i=0\n",
        "      j=0\n",
        "      while (i<len(word1) and j<len(word2)):\n",
        "          ans += word1[i]\n",
        "          ans += word2[j]\n",
        "          i+=1\n",
        "          j+=1\n",
        "\n",
        "      while i<len(word1):\n",
        "          ans += word1[i]\n",
        "          i+=1\n",
        "\n",
        "      while j<len(word2):\n",
        "          ans += word2[j]\n",
        "          j+=1\n",
        "\n",
        "      return ans\n",
        "\n",
        "# Example:\n",
        "solution_instance = Solution()\n",
        "word1 = \"abc\"\n",
        "word2 = \"pqr\"\n",
        "output = solution_instance.mergeAlternately(word1, word2)\n",
        "print(f\"Result: {output}\")"
      ]
    },
    {
      "cell_type": "markdown",
      "source": [
        "##  Find the Difference\n"
      ],
      "metadata": {
        "id": "gDirjVIREH3o"
      }
    },
    {
      "cell_type": "code",
      "source": [
        "class Solution:\n",
        "    def findTheDifference(self, s: str, t: str) -> str:\n",
        "        if len(s) > len(t):\n",
        "            for i in s:\n",
        "                if s.count(i)>t.count(i):\n",
        "                    return(i)\n",
        "        else:\n",
        "            for i in t:\n",
        "                if t.count(i)>s.count(i):\n",
        "                    return i\n",
        "\n",
        "# Example:\n",
        "solution_instance = Solution()\n",
        "s = \"abcd\"\n",
        "t = \"abcde\"\n",
        "output = solution_instance.findTheDifference(s,t)\n",
        "print(f\"Result: {output}\")"
      ],
      "metadata": {
        "colab": {
          "base_uri": "https://localhost:8080/"
        },
        "id": "9HUyGL5MDD6N",
        "outputId": "e17c986e-3301-44eb-eee1-c95b107137c1"
      },
      "execution_count": 14,
      "outputs": [
        {
          "output_type": "stream",
          "name": "stdout",
          "text": [
            "Result: e\n"
          ]
        }
      ]
    },
    {
      "cell_type": "markdown",
      "source": [
        "##Find the Index of the First Occurrence in a String"
      ],
      "metadata": {
        "id": "d-6kEkXEEreC"
      }
    },
    {
      "cell_type": "code",
      "source": [
        "class Solution:\n",
        "    def strStr(self, haystack: str, needle: str) -> int:\n",
        "        for i in range(len(haystack) - len(needle) + 1):\n",
        "            if haystack[i : i+len(needle)] == needle:\n",
        "                return i\n",
        "\n",
        "        return -1\n",
        "\n",
        "# Example:\n",
        "solution = Solution()\n",
        "haystack = \"hello\"\n",
        "needle = \"ll\"\n",
        "result = solution.strStr(haystack, needle)\n",
        "print(f\"Result: {result}\")"
      ],
      "metadata": {
        "colab": {
          "base_uri": "https://localhost:8080/"
        },
        "id": "Nb7_IJTQEgWX",
        "outputId": "909794c5-d3be-4b79-a1d0-f9153291b9a6"
      },
      "execution_count": 11,
      "outputs": [
        {
          "output_type": "stream",
          "name": "stdout",
          "text": [
            "Result: 2\n"
          ]
        }
      ]
    },
    {
      "cell_type": "markdown",
      "source": [
        "## Valid Anagram\n"
      ],
      "metadata": {
        "id": "q2gnN1KFFK9M"
      }
    },
    {
      "cell_type": "code",
      "source": [
        "class Solution:\n",
        "    def isAnagram(self, s: str, t: str) -> bool:\n",
        "        sorted_s = sorted(s)\n",
        "        sorted_t = sorted(t)\n",
        "        return sorted_s == sorted_t\n",
        "\n",
        "# Example:\n",
        "solution = Solution()\n",
        "s = \"anagram\"\n",
        "t = \"nagaram\"\n",
        "result = solution.isAnagram(s, t)\n",
        "print(f\"Result: {result}\")"
      ],
      "metadata": {
        "colab": {
          "base_uri": "https://localhost:8080/"
        },
        "id": "xnGwenhoE4zx",
        "outputId": "00bf1955-f6cc-4bda-ae41-24e3e49cf162"
      },
      "execution_count": 12,
      "outputs": [
        {
          "output_type": "stream",
          "name": "stdout",
          "text": [
            "Result: True\n"
          ]
        }
      ]
    },
    {
      "cell_type": "markdown",
      "source": [
        "## Repeated Substring Pattern\n"
      ],
      "metadata": {
        "id": "MUujOjChFOjO"
      }
    },
    {
      "cell_type": "code",
      "source": [
        "class Solution:\n",
        "    def repeatedSubstringPattern(self, s: str) -> bool:\n",
        "        for i in range(0,len(s)//2):\n",
        "            string = s[0:i+1]\n",
        "            length = len(string)\n",
        "            required = len(s)//length\n",
        "            if (string*required == s):\n",
        "                return True\n",
        "        return False\n",
        "\n",
        "# Example:\n",
        "solution = Solution()\n",
        "s = \"abab\"\n",
        "result = solution.repeatedSubstringPattern(s)\n",
        "print(f\"Result: {result}\")"
      ],
      "metadata": {
        "colab": {
          "base_uri": "https://localhost:8080/"
        },
        "id": "0t_ZWobxFSBW",
        "outputId": "045b5676-2c94-4794-a178-fce6fcb135fa"
      },
      "execution_count": 16,
      "outputs": [
        {
          "output_type": "stream",
          "name": "stdout",
          "text": [
            "Result: True\n"
          ]
        }
      ]
    },
    {
      "cell_type": "markdown",
      "source": [
        "## Move Zeroes"
      ],
      "metadata": {
        "id": "Axi5Z-5fFT_R"
      }
    },
    {
      "cell_type": "code",
      "source": [
        "class Solution:\n",
        "    def moveZeroes(self, nums) -> None:\n",
        "        i = 0\n",
        "        n = len(nums)\n",
        "        for j in range(n):\n",
        "            if (nums[j] != 0):\n",
        "                nums[i], nums[j] = nums[j], nums[i]\n",
        "                i+=1\n",
        "\n",
        "# Example:\n",
        "solution = Solution()\n",
        "nums = [0, 1, 0, 3, 12]\n",
        "print(f\"Original nums: {nums}\")\n",
        "solution.moveZeroes(nums)\n",
        "print(f\"Modified nums: {nums}\")"
      ],
      "metadata": {
        "colab": {
          "base_uri": "https://localhost:8080/"
        },
        "id": "7HKr26qaFYfr",
        "outputId": "9da2db8f-bd8c-46ac-f4b2-ec68b06dddd5"
      },
      "execution_count": 19,
      "outputs": [
        {
          "output_type": "stream",
          "name": "stdout",
          "text": [
            "Original nums: [0, 1, 0, 3, 12]\n",
            "Modified nums: [1, 3, 12, 0, 0]\n"
          ]
        }
      ]
    },
    {
      "cell_type": "markdown",
      "source": [
        "## Plus One\n"
      ],
      "metadata": {
        "id": "C9J4VEPvFbSp"
      }
    },
    {
      "cell_type": "code",
      "source": [
        "class Solution:\n",
        "    def plusOne(self, digits):\n",
        "        for i in range(len(digits)-1, -1, -1):\n",
        "            if (digits[i] == 9):\n",
        "                digits[i] = 0\n",
        "            else:\n",
        "                digits[i] = digits[i] + 1\n",
        "                return digits\n",
        "        return [1] + digits\n",
        "\n",
        "# Example:\n",
        "solution = Solution()\n",
        "digits = [9, 9, 9]\n",
        "print(f\"Original digits: {digits}\")\n",
        "result = solution.plusOne(digits)\n",
        "print(f\"Result: {result}\")\n"
      ],
      "metadata": {
        "colab": {
          "base_uri": "https://localhost:8080/"
        },
        "id": "9lXo702CFbBc",
        "outputId": "5154147a-7f10-4f0d-b907-1966a7edfbc7"
      },
      "execution_count": 21,
      "outputs": [
        {
          "output_type": "stream",
          "name": "stdout",
          "text": [
            "Original digits: [9, 9, 9]\n",
            "Result: [1, 0, 0, 0]\n"
          ]
        }
      ]
    },
    {
      "cell_type": "markdown",
      "source": [
        "## Sign of the Product of an Array\n"
      ],
      "metadata": {
        "id": "Gm7kNFCkFiVl"
      }
    },
    {
      "cell_type": "code",
      "source": [
        "class Solution:\n",
        "    def arraySign(self, nums):\n",
        "        count = 0\n",
        "        for i in nums:\n",
        "            if i < 0:\n",
        "                count += 1\n",
        "            elif i == 0:\n",
        "                return 0\n",
        "            else:\n",
        "                pass\n",
        "\n",
        "        if (count%2 == 0):\n",
        "            return 1\n",
        "        else:\n",
        "            return -1\n",
        "\n",
        "# Example:\n",
        "solution = Solution()\n",
        "nums = [1, -2, 3, -4, 5]\n",
        "print(f\"Original nums: {nums}\")\n",
        "result = solution.arraySign(nums)\n",
        "print(f\"Result: {result}\")"
      ],
      "metadata": {
        "colab": {
          "base_uri": "https://localhost:8080/"
        },
        "id": "FfCGbWr2Faub",
        "outputId": "bada9746-9139-42ae-8736-2ff4d3dc658c"
      },
      "execution_count": 22,
      "outputs": [
        {
          "output_type": "stream",
          "name": "stdout",
          "text": [
            "Original nums: [1, -2, 3, -4, 5]\n",
            "Result: 1\n"
          ]
        }
      ]
    },
    {
      "cell_type": "markdown",
      "source": [
        "## Can Make Arithmetic Progression From Sequence\n"
      ],
      "metadata": {
        "id": "lRFXrikkFllv"
      }
    },
    {
      "cell_type": "code",
      "source": [
        "class Solution:\n",
        "    def canMakeArithmeticProgression(self, arr):\n",
        "        arr.sort()\n",
        "        diff = arr[1] - arr[0]\n",
        "        for i in range(1,len(arr)-1):\n",
        "            if (arr[i+1] - arr[i]) != diff:\n",
        "                return False\n",
        "        return True\n",
        "\n",
        "# Example:\n",
        "solution = Solution()\n",
        "arr = [1, 5, 3, 7, 9]\n",
        "print(f\"Original array: {arr}\")\n",
        "result = solution.canMakeArithmeticProgression(arr)\n",
        "print(f\"Result: {result}\")"
      ],
      "metadata": {
        "colab": {
          "base_uri": "https://localhost:8080/"
        },
        "id": "KAJR0WrpFlPX",
        "outputId": "d2cd73e2-9c1d-48ef-992c-635e4e095887"
      },
      "execution_count": 23,
      "outputs": [
        {
          "output_type": "stream",
          "name": "stdout",
          "text": [
            "Original array: [1, 5, 3, 7, 9]\n",
            "Result: True\n"
          ]
        }
      ]
    },
    {
      "cell_type": "markdown",
      "source": [
        "## Monotonic Array\n"
      ],
      "metadata": {
        "id": "AbcW2TcuFtoR"
      }
    },
    {
      "cell_type": "code",
      "source": [
        "class Solution:\n",
        "    def isMonotonic(self, nums):\n",
        "        if len(nums) == 1:\n",
        "            return True\n",
        "        diff = nums[1] - nums[0]\n",
        "        for i in range(1,len(nums)-1):\n",
        "            if (diff>=0) and (nums[i+1]-nums[i]>=0):\n",
        "                if diff == 0:\n",
        "                    diff = nums[i+1]-nums[i]\n",
        "            elif (diff<=0) and (nums[i+1]-nums[i]<=0):\n",
        "                if diff == 0:\n",
        "                    diff = nums[i+1]-nums[i]\n",
        "            else:\n",
        "                return False\n",
        "        return True\n",
        "\n",
        "# Example:\n",
        "solution = Solution()\n",
        "nums = [6,5,5,4]\n",
        "result = solution.isMonotonic(nums)\n",
        "print(f\"Result: {result}\")"
      ],
      "metadata": {
        "colab": {
          "base_uri": "https://localhost:8080/"
        },
        "id": "yShdwu2rFlLt",
        "outputId": "22b10dd2-1ca9-4958-b530-4b4eb20f00b1"
      },
      "execution_count": 24,
      "outputs": [
        {
          "output_type": "stream",
          "name": "stdout",
          "text": [
            "Result: True\n"
          ]
        }
      ]
    },
    {
      "cell_type": "markdown",
      "source": [
        "## Roman to Integer\n"
      ],
      "metadata": {
        "id": "alnBlbWYFxJ3"
      }
    },
    {
      "cell_type": "code",
      "source": [
        "class Solution:\n",
        "    def romanToInt(self, s: str) -> int:\n",
        "        roman = {'I':1, 'V':5, 'X':10, 'L':50, 'C':100, 'D':500, 'M':1000}\n",
        "\n",
        "        ans = 0\n",
        "        for i in range(len(s)):\n",
        "            if i+1 < len(s) and roman[s[i]] < roman[s[i+1]]:\n",
        "                ans -= roman[s[i]]\n",
        "            else:\n",
        "                ans += roman[s[i]]\n",
        "\n",
        "        return ans\n",
        "\n",
        "# Example usage:\n",
        "solution = Solution()\n",
        "s = \"MCMXCIV\"\n",
        "result = solution.romanToInt(s)\n",
        "print(f\"Result: {result}\")"
      ],
      "metadata": {
        "colab": {
          "base_uri": "https://localhost:8080/"
        },
        "id": "fv0N2ARvFlJe",
        "outputId": "a3f780bb-0f06-43da-d7f4-94449be8a9af"
      },
      "execution_count": 25,
      "outputs": [
        {
          "output_type": "stream",
          "name": "stdout",
          "text": [
            "Result: 1994\n"
          ]
        }
      ]
    },
    {
      "cell_type": "code",
      "source": [],
      "metadata": {
        "id": "RoBwYzvmHMhw"
      },
      "execution_count": null,
      "outputs": []
    }
  ]
}