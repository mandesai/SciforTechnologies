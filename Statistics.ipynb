{
  "nbformat": 4,
  "nbformat_minor": 0,
  "metadata": {
    "colab": {
      "provenance": [],
      "authorship_tag": "ABX9TyMgzkAIMFFQbeTNLdtocFRJ",
      "include_colab_link": true
    },
    "kernelspec": {
      "name": "python3",
      "display_name": "Python 3"
    },
    "language_info": {
      "name": "python"
    }
  },
  "cells": [
    {
      "cell_type": "markdown",
      "metadata": {
        "id": "view-in-github",
        "colab_type": "text"
      },
      "source": [
        "<a href=\"https://colab.research.google.com/github/mandesai/SciforTechnologies/blob/main/Statistics.ipynb\" target=\"_parent\"><img src=\"https://colab.research.google.com/assets/colab-badge.svg\" alt=\"Open In Colab\"/></a>"
      ]
    },
    {
      "cell_type": "markdown",
      "source": [
        "###Descriptive Statistics"
      ],
      "metadata": {
        "id": "hNzSS2TZsVIO"
      }
    },
    {
      "cell_type": "markdown",
      "source": [
        "What is the purpose of descriptive statistics?"
      ],
      "metadata": {
        "id": "cDxMgIZcsVE0"
      }
    },
    {
      "cell_type": "markdown",
      "source": [
        "```\n",
        "Descriptive statistics serve the fundamental purpose of summarizing and describing the main features of a dataset.\n",
        "These statistics provide a concise and meaningful overview of the data.\n",
        "Descriptive statistics summarizes the large amount of data into several useful bits of information.\n",
        "```"
      ],
      "metadata": {
        "id": "BJBQV1l3sVCK"
      }
    },
    {
      "cell_type": "markdown",
      "source": [
        "Explain the difference between mean, median, and mode?"
      ],
      "metadata": {
        "id": "BWPD6dX1sU9C"
      }
    },
    {
      "cell_type": "markdown",
      "source": [
        "```\n",
        "Mean: The mean is the average where the sum of all the values in dataset and then dividing the sum by the total number of values.\n",
        "Formula: Mean = Sum of all values / Number of values\n",
        "​\n",
        "Median: The median is the middle value in a dataset when it is sorted in ascending or descending order.\n",
        "For an odd number of values: Median = Middle value\n",
        "For an even number of values: Median = Sum of two middle values / 2\n",
        "​\n",
        "Mode: The mode is the value that occurs most frequently in a dataset.\n",
        "A dataset may have one mode (unimodal), more than one mode (multimodal), or no mode if all values are unique.\n",
        "```"
      ],
      "metadata": {
        "id": "Xd35J-3vsU6S"
      }
    },
    {
      "cell_type": "markdown",
      "source": [
        "How do you interpret the standard deviation of a dataset?"
      ],
      "metadata": {
        "id": "5f_z13zisU3X"
      }
    },
    {
      "cell_type": "markdown",
      "source": [
        "```\n",
        "The standard deviation is a measure of the amount of variation in a dataset.\n",
        "It quantifies how much individual data points deviate from the mean (average) of the dataset.\n",
        "A higher standard deviation indicates greater variability among the data points, while a lower standard deviation suggests that the data points are closer to the mean.\n",
        "```"
      ],
      "metadata": {
        "id": "M-2vZWmGsU0o"
      }
    },
    {
      "cell_type": "markdown",
      "source": [
        "Describe the concept of skewness in statistics."
      ],
      "metadata": {
        "id": "I0Lhu9UrsUx_"
      }
    },
    {
      "cell_type": "markdown",
      "source": [
        "```\n",
        "Skewness is a statistical measure that describes the asymmetry or lack of symmetry in a dataset's distribution.\n",
        "In other words, it quantifies the degree and direction of skew in the data.\n",
        "A symmetric distribution has skewness close to zero, while a positively or negatively skewed distribution has a tail extending more toward the right or left, respectively.\n",
        "```"
      ],
      "metadata": {
        "id": "iMfoqkcHsUvS"
      }
    },
    {
      "cell_type": "markdown",
      "source": [
        "### Inferential Statistics"
      ],
      "metadata": {
        "id": "5vAtbqRTsUsl"
      }
    },
    {
      "cell_type": "markdown",
      "source": [
        "What is the main goal of inferential statistics?"
      ],
      "metadata": {
        "id": "hAgwlfLRsUpc"
      }
    },
    {
      "cell_type": "markdown",
      "source": [
        "```\n",
        "The main goal of inferential statistics is to make inferences or draw conclusions about a population based on a sample of data from that population.\n",
        "Inferential statistics involves using sample data to make predictions, estimate parameters, and test hypothesis about the characteristics of a larger population from which the sample is drawn.\n",
        "```"
      ],
      "metadata": {
        "id": "XNOW2ylMsUfc"
      }
    },
    {
      "cell_type": "markdown",
      "source": [
        "Explain the difference between a population and a sample."
      ],
      "metadata": {
        "id": "HfZWsHTYx2bD"
      }
    },
    {
      "cell_type": "markdown",
      "source": [
        "```\n",
        "Population: A population is the complete set of individuals, items, or observations that share a common characteristic.\n",
        "The population is often large and may consist of an infinite number of elements.\n",
        "Examples: All registered voters in a country, all students in a university, all products manufactured by a company etc.\n",
        "\n",
        "Sample: A sample is a subset of the population, consisting of a limited number of individuals, items, or observations selected from the larger population.\n",
        "The sample is smaller than the population and should be representative of the population from which it is drawn.\n",
        "Examples: A group of 500 randomly selected voters from a country, a random sample of 100 students from a university, a batch of 50 randomly chosen products from a company's production line etc.\n",
        "```"
      ],
      "metadata": {
        "id": "QqLvg7isx2Xt"
      }
    },
    {
      "cell_type": "markdown",
      "source": [
        "What is a confidence interval, and how is it useful in inferential statistics?\n"
      ],
      "metadata": {
        "id": "i9vlwBU4x2R8"
      }
    },
    {
      "cell_type": "markdown",
      "source": [
        "```\n",
        "A confidence interval displays the probability that a parameter will fall between a pair of values around the mean.\n",
        "Confidence intervals measure the degree of uncertainty or certainty in a sampling method.\n",
        "They are also used in hypothesis testing and regression analysis.\n",
        "```"
      ],
      "metadata": {
        "id": "Bagk12AAx2On"
      }
    },
    {
      "cell_type": "markdown",
      "source": [
        "Define p-value in hypothesis."
      ],
      "metadata": {
        "id": "PBWRsDimx2Ii"
      }
    },
    {
      "cell_type": "markdown",
      "source": [
        "```\n",
        "The p-value is the probability of observing a test statistic as extreme as, or more extreme than, the one computed from the sample data, assuming that the null hypothesis is true.\n",
        "A small p-value (typically below a predetermined significance level, often denoted as α) indicates that the observed data is unlikely to have occurred by random chance alone, providing evidence against the null hypothesis.\n",
        "A large p-value suggests that the observed data is likely to occur by random chance, and there is insufficient evidence to reject the null hypothesis.\n",
        "The p-value is compared to the chosen significance level (α) to make a decision in hypothesis testing:\n",
        "*   If p-value ≤ α, reject the null hypothesis.\n",
        "*   If p-value > α, fail to reject the null hypothesis.\n",
        "```"
      ],
      "metadata": {
        "id": "bxzKO0Afx2E9"
      }
    }
  ]
}