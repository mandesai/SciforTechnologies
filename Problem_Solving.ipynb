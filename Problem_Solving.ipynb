{
  "nbformat": 4,
  "nbformat_minor": 0,
  "metadata": {
    "colab": {
      "provenance": [],
      "toc_visible": true
    },
    "kernelspec": {
      "name": "python3",
      "display_name": "Python 3"
    },
    "language_info": {
      "name": "python"
    }
  },
  "cells": [
    {
      "cell_type": "markdown",
      "source": [
        "#### What is the difference between list and tuple in Python?\n",
        "\n",
        "```\n",
        "List :-\n",
        "List is created using square brackets[]. list is mutable. There is add, remove, or change elements operation perform in a list. ex. x = [1,2,3]\n",
        "Tuple :-\n",
        "List is created using parenthesis().tuple is immutable. There is no add, remove, or change elements operation perform in a tuple. ex. x = (1,2,3)\n",
        "```"
      ],
      "metadata": {
        "id": "MjlS0rHTwuan"
      }
    },
    {
      "cell_type": "markdown",
      "source": [
        "### Explain the concept of PEP 8.\n",
        "\n",
        "```\n",
        "PEP stands for Python Enhancement Proposal. it is used to improve the readability and consistency of Python code.\n",
        "```"
      ],
      "metadata": {
        "id": "CnZJ6W-nzHKF"
      }
    },
    {
      "cell_type": "markdown",
      "source": [
        "###What is the purpose of the __init__ method in Python classes?\n",
        "\n",
        "```\n",
        "The __init__ method in Python is automatically called when an object of a class is created.\n",
        "It is used to initialize the attributes of the object, setting their initial values.\n",
        "```"
      ],
      "metadata": {
        "id": "zCpRzvndz_Zc"
      }
    },
    {
      "cell_type": "markdown",
      "source": [
        "###How does inheritance work in Python? Provide an example.\n",
        "```\n",
        "Inheritance aloows a new class (subclass or derived class) to inherit attributes and methods from existing class (base class or superclass).\n",
        "\n",
        "```"
      ],
      "metadata": {
        "id": "G0zHnBY10wN3"
      }
    },
    {
      "cell_type": "code",
      "source": [
        "class Animal:\n",
        "    def speak(self):\n",
        "         return \"animal speak\"\n",
        "\n",
        "class Dog(Animal):\n",
        "    def bark(self):\n",
        "        return \"dog bark\"\n",
        "\n",
        "my_dog = Dog()\n",
        "\n",
        "print(my_dog.speak())"
      ],
      "metadata": {
        "id": "q3Mb7roJzIdE",
        "colab": {
          "base_uri": "https://localhost:8080/"
        },
        "outputId": "23eb31ab-4883-4927-a38d-2713e510e3cc"
      },
      "execution_count": null,
      "outputs": [
        {
          "output_type": "stream",
          "name": "stdout",
          "text": [
            "animal speak\n"
          ]
        }
      ]
    },
    {
      "cell_type": "markdown",
      "source": [
        "### Explain the difference between staticmethod and classmethod.\n",
        "```\n",
        "static method:\n",
        "A static method is a method that belongs to a class rather than an instance of the class. Static methods do not have access to the instance or the class itself.\n",
        "class method:\n",
        "A class method is a method that takes the class itself as its first parameter.Class methods have access to the class itself.\n",
        "```"
      ],
      "metadata": {
        "id": "UNbrB3zn11jb"
      }
    },
    {
      "cell_type": "markdown",
      "source": [
        "###What is Polymorphism in Python? Give an example.\n",
        "```\n",
        "Polymorphism means one name multiple forms.\n",
        "```"
      ],
      "metadata": {
        "id": "0ZHO26qw2uiy"
      }
    },
    {
      "cell_type": "code",
      "source": [
        "def add(p, q, r = 0):\n",
        "    return p + q + r\n",
        "\n",
        "print (add(2, 3))\n",
        "print (add(2, 3, 4))"
      ],
      "metadata": {
        "colab": {
          "base_uri": "https://localhost:8080/"
        },
        "id": "uFUj5b5w2uR9",
        "outputId": "d8e6babb-7296-46a1-8c52-b2d6946fc6dd"
      },
      "execution_count": null,
      "outputs": [
        {
          "output_type": "stream",
          "name": "stdout",
          "text": [
            "5\n",
            "9\n"
          ]
        }
      ]
    },
    {
      "cell_type": "markdown",
      "source": [
        "###How do you handle exceptions in Python?\n",
        "```\n",
        "We use try and except for handle exception in python\n",
        "```"
      ],
      "metadata": {
        "id": "_nu51-K04D4m"
      }
    },
    {
      "cell_type": "markdown",
      "source": [
        "###Explain the Global Interpreter Lock (GIL) in Python.\n",
        "```\n",
        "The Global Interpreter Lock (GIL) is a mechanism used in the implementation of the CPython interpreter.  \n",
        "It ensures that only one thread executes Python bytecode in a process at any given time.\n",
        "```"
      ],
      "metadata": {
        "id": "Gl0UOcDue-eP"
      }
    },
    {
      "cell_type": "markdown",
      "source": [
        "###What is a decorator in Python? Provide an example.\n",
        "```\n",
        "Decorator is allows to extend or modify the behavior of functions or methods without modifying their actual code.\n",
        "```"
      ],
      "metadata": {
        "id": "qLdIiCuKfr9e"
      }
    },
    {
      "cell_type": "code",
      "source": [
        "def my_decorator(func):\n",
        "    def inner1():\n",
        "        print(\"this is before function execution\")\n",
        "        func()\n",
        "        print(\"This is after function execution\")\n",
        "    return inner1\n",
        "\n",
        "# Function to be decorated\n",
        "@my_decorator\n",
        "def say_hello():\n",
        "    print(\"Hello!\")\n",
        "\n",
        "# Calling the decorated function\n",
        "say_hello()\n"
      ],
      "metadata": {
        "id": "swKYGn012uJZ",
        "colab": {
          "base_uri": "https://localhost:8080/"
        },
        "outputId": "e3d56b9f-d38d-4b29-ac8f-7a54060ee7db"
      },
      "execution_count": 1,
      "outputs": [
        {
          "output_type": "stream",
          "name": "stdout",
          "text": [
            "this is before function execution\n",
            "Hello!\n",
            "This is after function execution\n"
          ]
        }
      ]
    },
    {
      "cell_type": "markdown",
      "source": [
        "###How do you implement encapsulation in Python?"
      ],
      "metadata": {
        "id": "Ho1IUaS0hbYD"
      }
    },
    {
      "cell_type": "code",
      "source": [
        "class Students:\n",
        "   def __init__(self, name, rank, points):\n",
        "      self.name = name\n",
        "      self.rank = rank\n",
        "      self.points = points\n",
        "\n",
        "   def demofunc(self):\n",
        "      print(\"I am \"+self.name)\n",
        "      print(\"I got Rank \",+self.rank)\n",
        "\n",
        "# create 4 objects\n",
        "st1 = Students(\"abc\", 1, 80)\n",
        "st2 = Students(\"xyz\", 2, 90)\n",
        "\n",
        "# call the functions using the objects created above\n",
        "st1.demofunc()\n",
        "st2.demofunc()"
      ],
      "metadata": {
        "id": "jwYdmMjg2tNp",
        "colab": {
          "base_uri": "https://localhost:8080/"
        },
        "outputId": "7b9232e2-dc0a-4031-f482-cea5d0cd3f5d"
      },
      "execution_count": 2,
      "outputs": [
        {
          "output_type": "stream",
          "name": "stdout",
          "text": [
            "I am abc\n",
            "I got Rank  1\n",
            "I am xyz\n",
            "I got Rank  2\n"
          ]
        }
      ]
    },
    {
      "cell_type": "markdown",
      "source": [
        "###Explain the concept of duck typing.\n",
        "\n",
        "```\n",
        "Duck typing is a programming concept used in dynamically-typed languages,\n",
        "where the type or class of an object is determined by its behavior rather than its explicit type.\n",
        "```"
      ],
      "metadata": {
        "id": "LG2H6usslAMi"
      }
    },
    {
      "cell_type": "markdown",
      "source": [
        "###What is the difference between append() and extend() methods for lists?\n",
        "\n",
        "```\n",
        "append() - it adds a single element to the end of the list.\n",
        "extend() -  it adds the elements of an iterable (e.g., list, tuple, string) to the end of the list.\n",
        "```"
      ],
      "metadata": {
        "id": "EyrXgWv1mChw"
      }
    },
    {
      "cell_type": "markdown",
      "source": [
        "###How does the with statement work in Python?\n",
        "\n",
        "```\n",
        "The with statement in Python is used for resource management and exception handling.\n",
        "It simplifies the management of shared resources like file streams, ensuring that resources are properly cleaned up after use, regardless of whether an exception is raised.\n",
        "\n",
        "```"
      ],
      "metadata": {
        "id": "RtvWYST9mm_-"
      }
    },
    {
      "cell_type": "markdown",
      "source": [
        "###Discuss the use of self in Python classes.\n",
        "\n",
        "```\n",
        "The self is used to represent the instance of the class.\n",
        "Using that we can access the attributes and methods of the class in python.\n",
        "```"
      ],
      "metadata": {
        "id": "7yEjCcQLn1C8"
      }
    },
    {
      "cell_type": "markdown",
      "source": [
        "###Explain the purpose of the __slots__ attribute.\n",
        "\n",
        "```\n",
        "Python __slots__ attribute is helping to save memory when working with objects.\n",
        "By specifying the attributes that can be defined for an object, we can control how much memory is allocated for that object.\n",
        "```"
      ],
      "metadata": {
        "id": "h-f1MMDppbc-"
      }
    },
    {
      "cell_type": "markdown",
      "source": [
        "###hat is the difference between an instance variable and a class variable?\n",
        "\n",
        "```\n",
        "instance variable - it is a unique to each instance of the class and accessed using the instance of the class (self).\n",
        "class variable - it is a shared among all instances of the class and accessed using the class name.\n",
        "```"
      ],
      "metadata": {
        "id": "pE_UZ9Z6raen"
      }
    },
    {
      "cell_type": "markdown",
      "source": [
        "###How do you implement Encapsulation, Abstraction, Polymorphism?"
      ],
      "metadata": {
        "id": "L0YxhcQutGoy"
      }
    },
    {
      "cell_type": "code",
      "source": [
        "# from abc import ABC, abstractmethod\n",
        "\n",
        "class EncapsulationExample:\n",
        "    class Car:\n",
        "        def __init__(self, model):\n",
        "            self.__model = model\n",
        "\n",
        "        def get_model(self):\n",
        "            return self.__model\n",
        "\n",
        "    class AbstractionExample(ABC):\n",
        "        @abstractmethod\n",
        "        def add(self):\n",
        "            pass\n",
        "\n",
        "    class Circle(AbstractionExample):\n",
        "        def __init__(self, value):\n",
        "            self.value = value\n",
        "\n",
        "        def add(self):\n",
        "            return 5 + self.value\n",
        "\n",
        "    class PolymorphismExample:\n",
        "        def sum(self, p, q, r = 5):\n",
        "          return (p + q + r)\n",
        "\n",
        "example = EncapsulationExample()\n",
        "\n",
        "# Encapsulation\n",
        "car_instance = example.Car(model=\"Toyota\")\n",
        "print(car_instance.get_model())\n",
        "\n",
        "# Abstraction\n",
        "circle_instance = example.Circle(value=5)\n",
        "print(circle_instance.add())\n",
        "\n",
        "# Polymorphism\n",
        "polymorphism_example = example.PolymorphismExample()\n",
        "print(polymorphism_example.sum(3,4))\n",
        "print(polymorphism_example.sum(3,4,9))"
      ],
      "metadata": {
        "colab": {
          "base_uri": "https://localhost:8080/"
        },
        "id": "eZjJtJfkk7pa",
        "outputId": "17e344fc-a0cc-43d1-9cf4-fda37706358c"
      },
      "execution_count": 12,
      "outputs": [
        {
          "output_type": "stream",
          "name": "stdout",
          "text": [
            "Toyota\n",
            "10\n",
            "12\n",
            "16\n"
          ]
        }
      ]
    },
    {
      "cell_type": "markdown",
      "source": [
        "###How do you Implement single level Inheritance, multiple level inheritance, multi level inheritance, Hybrid Inheritance\n"
      ],
      "metadata": {
        "id": "R3HJaFPwxDas"
      }
    },
    {
      "cell_type": "code",
      "source": [
        "class Animal:\n",
        "    def __init__(self, name):\n",
        "        self.name = name\n",
        "\n",
        "class Mammal(Animal):\n",
        "    def give_birth(self):\n",
        "        print(f\"{self.name} is giving birth to live young.\")\n",
        "\n",
        "class Bird(Animal):\n",
        "    def lay_eggs(self):\n",
        "        print(f\"{self.name} is laying eggs.\")\n",
        "\n",
        "class Dog(Mammal):\n",
        "    def speak(self):\n",
        "        return \"Woof!\"\n",
        "\n",
        "class Cat(Mammal):\n",
        "    def speak(self):\n",
        "        return \"Meow!\"\n",
        "\n",
        "class Parrot(Bird):\n",
        "    def speak(self):\n",
        "        return \"Squawk!\"\n",
        "\n",
        "class Bat(Mammal, Bird):\n",
        "    def fly(self):\n",
        "        print(f\"{self.name} is flying.\")\n",
        "\n",
        "\n",
        "dog_instance = Dog(name=\"Buddy\")\n",
        "cat_instance = Cat(name=\"Whiskers\")\n",
        "parrot_instance = Parrot(name=\"Polly\")\n",
        "bat_instance = Bat(name=\"Batty\")\n",
        "\n",
        "# Single Level Inheritance\n",
        "print(dog_instance.speak())\n",
        "\n",
        "# Multiple Level Inheritance\n",
        "cat_instance.give_birth()\n",
        "\n",
        "# Multi Level Inheritance\n",
        "parrot_instance.lay_eggs()\n",
        "\n",
        "# Hybrid Inheritance\n",
        "bat_instance.give_birth()\n",
        "bat_instance.lay_eggs()\n",
        "bat_instance.fly()\n"
      ],
      "metadata": {
        "colab": {
          "base_uri": "https://localhost:8080/"
        },
        "id": "nFdv5617k7l2",
        "outputId": "6c9f0f05-cd6f-4c9a-d743-8c9475d17bfb"
      },
      "execution_count": 14,
      "outputs": [
        {
          "output_type": "stream",
          "name": "stdout",
          "text": [
            "Woof!\n",
            "Whiskers is giving birth to live young.\n",
            "Polly is laying eggs.\n",
            "Batty is giving birth to live young.\n",
            "Batty is laying eggs.\n",
            "Batty is flying.\n"
          ]
        }
      ]
    },
    {
      "cell_type": "code",
      "source": [],
      "metadata": {
        "id": "snKu7hA_k7jM"
      },
      "execution_count": null,
      "outputs": []
    },
    {
      "cell_type": "code",
      "source": [],
      "metadata": {
        "id": "qlCbXtHdk7gb"
      },
      "execution_count": null,
      "outputs": []
    }
  ]
}